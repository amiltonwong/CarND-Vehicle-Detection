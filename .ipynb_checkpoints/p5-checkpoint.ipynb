{
 "cells": [
  {
   "cell_type": "code",
   "execution_count": 1,
   "metadata": {
    "collapsed": true,
    "deletable": true,
    "editable": true
   },
   "outputs": [],
   "source": [
    "from skimage.feature import hog\n",
    "from sklearn.svm import LinearSVC\n",
    "from sklearn.preprocessing import StandardScaler\n",
    "# for scikit-learn >= 0.18 use:\n",
    "from sklearn.model_selection import train_test_split\n",
    "# from sklearn.cross_validation import train_test_split\n",
    "from scipy.ndimage.measurements import label\n",
    "import matplotlib.image as mpimg\n",
    "import matplotlib.pyplot as plt\n",
    "from moviepy.editor import VideoFileClip\n",
    "from IPython.display import HTML\n",
    "import numpy as np\n",
    "import pickle\n",
    "import cv2\n",
    "import glob\n",
    "import time\n",
    "\n",
    "%matplotlib inline"
   ]
  },
  {
   "cell_type": "code",
   "execution_count": 2,
   "metadata": {
    "collapsed": false,
    "deletable": true,
    "editable": true
   },
   "outputs": [],
   "source": [
    "#Load Training Data\n",
    "car_images = glob.glob('training_data/vehicles/**/*.png')\n",
    "noncar_images = glob.glob('training_data/non-vehicles/**/*.png')"
   ]
  },
  {
   "cell_type": "code",
   "execution_count": 3,
   "metadata": {
    "collapsed": true,
    "deletable": true,
    "editable": true
   },
   "outputs": [],
   "source": [
    "# HoG feature extraction function, reference from course material\n",
    "def get_hog_features(img, orient, pix_per_cell, cell_per_block, \n",
    "                        vis=False, feature_vec=True):\n",
    "    # Call with two outputs if vis==True\n",
    "    if vis == True:\n",
    "        features, hog_image = hog(img, orientations=orient, \n",
    "                                  pixels_per_cell=(pix_per_cell, pix_per_cell),\n",
    "                                  cells_per_block=(cell_per_block, cell_per_block), \n",
    "                                  transform_sqrt=False, \n",
    "                                  visualise=vis, feature_vector=feature_vec)\n",
    "        return features, hog_image\n",
    "    # Otherwise call with one output\n",
    "    else:      \n",
    "        features = hog(img, orientations=orient, \n",
    "                       pixels_per_cell=(pix_per_cell, pix_per_cell),\n",
    "                       cells_per_block=(cell_per_block, cell_per_block), \n",
    "                       transform_sqrt=False, \n",
    "                       visualise=vis, feature_vector=feature_vec)\n",
    "        return features"
   ]
  },
  {
   "cell_type": "code",
   "execution_count": null,
   "metadata": {
    "collapsed": false,
    "deletable": true,
    "editable": true,
    "scrolled": true
   },
   "outputs": [],
   "source": [
    "# HoG features applied on example image: car_images[0] and notcar_images[0]\n",
    "car_img = mpimg.imread(car_images[0])\n",
    "#car_img = cv2.cvtColor(car_img, cv2.COLOR_RGB2GRAY)\n",
    "_, car_dst = get_hog_features(car_img[:,:,2], 9, 8, 2, vis=True, feature_vec=True)\n",
    "#_, car_dst = get_hog_features(car_img, 9, 8, 8, vis=True, feature_vec=True)\n",
    "\n",
    "noncar_img = mpimg.imread(noncar_images[0])\n",
    "#noncar_img = cv2.cvtColor(noncar_img, cv2.COLOR_RGB2GRAY)\n",
    "_, noncar_dst = get_hog_features(noncar_img[:,:,2], 9, 8, 2, vis=True, feature_vec=True)\n",
    "#_, noncar_dst = get_hog_features(noncar_img, 9, 8, 8, vis=True, feature_vec=True)\n",
    "\n",
    "# Visualize \n",
    "\n",
    "f, ((ax1, ax2), (ax3, ax4)) = plt.subplots(2, 2, figsize=(7,7))\n",
    "f.subplots_adjust(hspace = .4, wspace=.2)\n",
    "ax1.imshow(car_img, cmap='gray')\n",
    "ax1.set_title('Car Image', fontsize=16)\n",
    "ax2.imshow(car_dst, cmap='gray')\n",
    "ax2.set_title('Car HOG', fontsize=16)\n",
    "ax3.imshow(noncar_img, cmap='gray')\n",
    "ax3.set_title('Non-Car Image', fontsize=16)\n",
    "ax4.imshow(noncar_dst, cmap='gray')\n",
    "ax4.set_title('Non-Car HOG', fontsize=16)\n"
   ]
  },
  {
   "cell_type": "code",
   "execution_count": null,
   "metadata": {
    "collapsed": true,
    "deletable": true,
    "editable": true
   },
   "outputs": [],
   "source": [
    "def extract_features(imgs, cspace='RGB', orient=9, \n",
    "                        pix_per_cell=8, cell_per_block=2, hog_channel=0):\n",
    "    # Create a list to append feature vectors to\n",
    "    features = []\n",
    "    # Iterate through the list of images\n",
    "    for file in imgs:\n",
    "        # Read in each one by one\n",
    "        image = mpimg.imread(file)\n",
    "        # apply color conversion if other than 'RGB'\n",
    "        if cspace != 'RGB':\n",
    "            if cspace == 'HSV':\n",
    "                feature_image = cv2.cvtColor(image, cv2.COLOR_RGB2HSV)\n",
    "            elif cspace == 'LUV':\n",
    "                feature_image = cv2.cvtColor(image, cv2.COLOR_RGB2LUV)\n",
    "            elif cspace == 'HLS':\n",
    "                feature_image = cv2.cvtColor(image, cv2.COLOR_RGB2HLS)\n",
    "            elif cspace == 'YUV':\n",
    "                feature_image = cv2.cvtColor(image, cv2.COLOR_RGB2YUV)\n",
    "            elif cspace == 'YCrCb':\n",
    "                feature_image = cv2.cvtColor(image, cv2.COLOR_RGB2YCrCb)\n",
    "        else: feature_image = np.copy(image)      \n",
    "\n",
    "        # Call get_hog_features() with vis=False, feature_vec=True\n",
    "        if hog_channel == 'ALL':\n",
    "            hog_features = []\n",
    "            for channel in range(feature_image.shape[2]):\n",
    "                hog_features.append(get_hog_features(feature_image[:,:,channel], \n",
    "                                    orient, pix_per_cell, cell_per_block, \n",
    "                                    vis=False, feature_vec=True))\n",
    "            hog_features = np.ravel(hog_features)        \n",
    "        else:\n",
    "            hog_features = get_hog_features(feature_image[:,:,hog_channel], orient, \n",
    "                        pix_per_cell, cell_per_block, vis=False, feature_vec=True)\n",
    "        # Append the new feature vector to the features list\n",
    "        features.append(hog_features)\n",
    "    # Return list of feature vectors\n",
    "    return features"
   ]
  },
  {
   "cell_type": "code",
   "execution_count": null,
   "metadata": {
    "collapsed": false,
    "deletable": true,
    "editable": true
   },
   "outputs": [],
   "source": [
    "# Extract Features for Input Datasets and Combine\n",
    "\n",
    "# HoG params\n",
    "colorspace = 'YUV' # Can be RGB, HSV, LUV, HLS, YUV, YCrCb\n",
    "orient = 11\n",
    "pix_per_cell = 16\n",
    "cell_per_block = 2\n",
    "hog_channel = 'ALL' # Can be 0, 1, 2, or \"ALL\"\n",
    "\n",
    "t = time.time()\n",
    "car_features = extract_features(car_images, cspace=colorspace, orient=orient, \n",
    "                        pix_per_cell=pix_per_cell, cell_per_block=cell_per_block, \n",
    "                        hog_channel=hog_channel)\n",
    "notcar_features = extract_features(noncar_images, cspace=colorspace, orient=orient, \n",
    "                        pix_per_cell=pix_per_cell, cell_per_block=cell_per_block, \n",
    "                        hog_channel=hog_channel)\n",
    "t2 = time.time()\n",
    "print(round(t2-t, 2), 'Seconds to extract HOG features for all training images...')\n",
    "print(round((t2-t)/(len(car_images)+len(noncar_images)), 6), 'Seconds to extract HOG features for average an image...')"
   ]
  },
  {
   "cell_type": "code",
   "execution_count": null,
   "metadata": {
    "collapsed": true,
    "deletable": true,
    "editable": true
   },
   "outputs": [],
   "source": [
    "# Define the labels vector\n",
    "y = np.hstack((np.ones(len(car_features)), np.zeros(len(notcar_features))))"
   ]
  },
  {
   "cell_type": "code",
   "execution_count": null,
   "metadata": {
    "collapsed": true,
    "deletable": true,
    "editable": true
   },
   "outputs": [],
   "source": [
    "# Create an array stack of feature vectors\n",
    "X = np.vstack((car_features, notcar_features)).astype(np.float64) "
   ]
  },
  {
   "cell_type": "code",
   "execution_count": null,
   "metadata": {
    "collapsed": true,
    "deletable": true,
    "editable": true
   },
   "outputs": [],
   "source": [
    "# Fit a per-column scaler\n",
    "X_scaler = StandardScaler().fit(X)\n",
    "# Apply the scaler to X\n",
    "scaled_X = X_scaler.transform(X)"
   ]
  },
  {
   "cell_type": "code",
   "execution_count": null,
   "metadata": {
    "collapsed": false,
    "deletable": true,
    "editable": true
   },
   "outputs": [],
   "source": [
    "print(np.max(X), np.min(X))\n",
    "print(np.max(scaled_X), np.min(scaled_X))"
   ]
  },
  {
   "cell_type": "code",
   "execution_count": null,
   "metadata": {
    "collapsed": true,
    "deletable": true,
    "editable": true
   },
   "outputs": [],
   "source": [
    "# Split up data into randomized training and test sets\n",
    "rand_state = 23\n",
    "\n",
    "X_train, X_test, y_train, y_test = train_test_split(\n",
    "    X, y, test_size=0.2, random_state=rand_state)"
   ]
  },
  {
   "cell_type": "code",
   "execution_count": null,
   "metadata": {
    "collapsed": false,
    "deletable": true,
    "editable": true
   },
   "outputs": [],
   "source": [
    "print('Using:',orient,'orientations',pix_per_cell,\n",
    "    'pixels per cell and', cell_per_block,'cells per block')\n",
    "print('Feature vector length:', len(X_train[0]))"
   ]
  },
  {
   "cell_type": "code",
   "execution_count": null,
   "metadata": {
    "collapsed": false,
    "deletable": true,
    "editable": true
   },
   "outputs": [],
   "source": [
    "print(X_train.shape, X_test.shape)"
   ]
  },
  {
   "cell_type": "code",
   "execution_count": null,
   "metadata": {
    "collapsed": false,
    "deletable": true,
    "editable": true
   },
   "outputs": [],
   "source": [
    "#Train a Classifier\n",
    "from sklearn.svm import LinearSVC\n",
    "# Use a linear SVC (support vector classifier)\n",
    "svc = LinearSVC()\n",
    "# Train the SVC\n",
    "svc.fit(X_train, y_train)"
   ]
  },
  {
   "cell_type": "code",
   "execution_count": null,
   "metadata": {
    "collapsed": false,
    "deletable": true,
    "editable": true
   },
   "outputs": [],
   "source": [
    "print('Test Accuracy of SVC = ', svc.score(X_test, y_test))"
   ]
  },
  {
   "cell_type": "code",
   "execution_count": null,
   "metadata": {
    "collapsed": true,
    "deletable": true,
    "editable": true
   },
   "outputs": [],
   "source": [
    "# Apply sliding window approach\n",
    "# Define a single function that can extract features using hog sub-sampling and make predictions\n",
    "def find_cars(img, ystart, ystop, scale, cspace, hog_channel, svc, X_scaler, orient, \n",
    "              pix_per_cell, cell_per_block, spatial_size, hist_bins, show_all_rectangles=False):\n",
    "    \n",
    "    # array of rectangles where cars were detected\n",
    "    rectangles = []\n",
    "    # From scale (0..255) to scale (0,1)\n",
    "    img = img.astype(np.float32)/255\n",
    "    \n",
    "    img_tosearch = img[ystart:ystop,:,:]\n",
    "\n",
    "    # apply color conversion if other than 'RGB'\n",
    "    if cspace != 'RGB':\n",
    "        if cspace == 'HSV':\n",
    "            ctrans_tosearch = cv2.cvtColor(img_tosearch, cv2.COLOR_RGB2HSV)\n",
    "        elif cspace == 'LUV':\n",
    "            ctrans_tosearch = cv2.cvtColor(img_tosearch, cv2.COLOR_RGB2LUV)\n",
    "        elif cspace == 'HLS':\n",
    "            ctrans_tosearch = cv2.cvtColor(img_tosearch, cv2.COLOR_RGB2HLS)\n",
    "        elif cspace == 'YUV':\n",
    "            ctrans_tosearch = cv2.cvtColor(img_tosearch, cv2.COLOR_RGB2YUV)\n",
    "        elif cspace == 'YCrCb':\n",
    "            ctrans_tosearch = cv2.cvtColor(img_tosearch, cv2.COLOR_RGB2YCrCb)\n",
    "    else: ctrans_tosearch = np.copy(image)   \n",
    "    \n",
    "    # rescale image if other than 1.0 scale\n",
    "    if scale != 1:\n",
    "        imshape = ctrans_tosearch.shape\n",
    "        ctrans_tosearch = cv2.resize(ctrans_tosearch, (np.int(imshape[1]/scale), np.int(imshape[0]/scale)))\n",
    "    \n",
    "    # select colorspace channel for HOG \n",
    "    if hog_channel == 'ALL':\n",
    "        ch1 = ctrans_tosearch[:,:,0]\n",
    "        ch2 = ctrans_tosearch[:,:,1]\n",
    "        ch3 = ctrans_tosearch[:,:,2]\n",
    "    else: \n",
    "        ch1 = ctrans_tosearch[:,:,hog_channel]\n",
    "\n",
    "    # Define blocks and steps as above\n",
    "    nxblocks = (ch1.shape[1] // pix_per_cell)+1  #-1\n",
    "    nyblocks = (ch1.shape[0] // pix_per_cell)+1  #-1 \n",
    "    nfeat_per_block = orient*cell_per_block**2\n",
    "    # 64 was the orginal sampling rate, with 8 cells and 8 pix per cell\n",
    "    window = 64\n",
    "    nblocks_per_window = (window // pix_per_cell)-1 \n",
    "    cells_per_step = 2  # Instead of overlap, define how many cells to step\n",
    "    nxsteps = (nxblocks - nblocks_per_window) // cells_per_step\n",
    "    nysteps = (nyblocks - nblocks_per_window) // cells_per_step\n",
    "    \n",
    "    # Compute individual channel HOG features for the entire image\n",
    "    hog1 = get_hog_features(ch1, orient, pix_per_cell, cell_per_block, feature_vec=False)   \n",
    "    if hog_channel == 'ALL':\n",
    "        hog2 = get_hog_features(ch2, orient, pix_per_cell, cell_per_block, feature_vec=False)\n",
    "        hog3 = get_hog_features(ch3, orient, pix_per_cell, cell_per_block, feature_vec=False)\n",
    "    \n",
    "    for xb in range(nxsteps):\n",
    "        for yb in range(nysteps):\n",
    "            ypos = yb*cells_per_step\n",
    "            xpos = xb*cells_per_step\n",
    "            # Extract HOG for this patch\n",
    "            hog_feat1 = hog1[ypos:ypos+nblocks_per_window, xpos:xpos+nblocks_per_window].ravel()\n",
    "            if hog_channel == 'ALL':\n",
    "                hog_feat2 = hog2[ypos:ypos+nblocks_per_window, xpos:xpos+nblocks_per_window].ravel() \n",
    "                hog_feat3 = hog3[ypos:ypos+nblocks_per_window, xpos:xpos+nblocks_per_window].ravel() \n",
    "                hog_features = np.hstack((hog_feat1, hog_feat2, hog_feat3))\n",
    "            else:\n",
    "                hog_features = hog_feat1\n",
    "\n",
    "            xleft = xpos*pix_per_cell\n",
    "            ytop = ypos*pix_per_cell\n",
    "            \n",
    "           \n",
    "            test_prediction = svc.predict(hog_features)\n",
    "            \n",
    "            if test_prediction == 1 or show_all_rectangles:\n",
    "                xbox_left = np.int(xleft*scale)\n",
    "                ytop_draw = np.int(ytop*scale)\n",
    "                win_draw = np.int(window*scale)\n",
    "                rectangles.append(((xbox_left, ytop_draw+ystart),(xbox_left+win_draw,ytop_draw+win_draw+ystart)))\n",
    "                \n",
    "    return rectangles"
   ]
  },
  {
   "cell_type": "code",
   "execution_count": null,
   "metadata": {
    "collapsed": false,
    "deletable": true,
    "editable": true
   },
   "outputs": [],
   "source": [
    "print('h: ', h, 'w: ',w)"
   ]
  },
  {
   "cell_type": "code",
   "execution_count": null,
   "metadata": {
    "collapsed": false,
    "deletable": true,
    "editable": true
   },
   "outputs": [],
   "source": [
    "# Test Find_Cars on an Example Image\n",
    "test_img = mpimg.imread('./test_images/test3.jpg')\n",
    "h = test_img.shape[0]\n",
    "w = test_img.shape[1]\n",
    "#ystart = h//2\n",
    "#ystop = h-50\n",
    "ystart = 400\n",
    "ystop = h-50#656\n",
    "scale = 1.5\n",
    "colorspace = 'YUV' # Can be RGB, HSV, LUV, HLS, YUV, YCrCb\n",
    "orient = 11\n",
    "pix_per_cell = 16\n",
    "cell_per_block = 2\n",
    "hog_channel = 'ALL' # Can be 0, 1, 2, or \"ALL\"\n",
    "\n",
    "rectangles = find_cars(test_img, ystart, ystop, scale, colorspace, hog_channel, svc, None, orient, pix_per_cell, cell_per_block, None, None)\n",
    "\n",
    "print(len(rectangles), 'rectangles found in image')"
   ]
  },
  {
   "cell_type": "code",
   "execution_count": null,
   "metadata": {
    "collapsed": true,
    "deletable": true,
    "editable": true
   },
   "outputs": [],
   "source": [
    "ystart = 400\n",
    "ystop = 528\n",
    "scale = 2.0\n",
    "rectangles.append(find_cars(test_img, ystart, ystop, scale, colorspace, hog_channel, svc, None, \n",
    "                       orient, pix_per_cell, cell_per_block, None, None))"
   ]
  },
  {
   "cell_type": "code",
   "execution_count": null,
   "metadata": {
    "collapsed": true,
    "deletable": true,
    "editable": true
   },
   "outputs": [],
   "source": [
    "ystart = 400\n",
    "ystop = 596\n",
    "scale = 3.5\n",
    "rectangles.append(find_cars(test_img, ystart, ystop, scale, colorspace, hog_channel, svc, None, \n",
    "                       orient, pix_per_cell, cell_per_block, None, None))"
   ]
  },
  {
   "cell_type": "code",
   "execution_count": null,
   "metadata": {
    "collapsed": false,
    "deletable": true,
    "editable": true
   },
   "outputs": [],
   "source": [
    "print(len(rectangles), 'rectangles found in image')\n",
    "print(rectangles)"
   ]
  },
  {
   "cell_type": "code",
   "execution_count": null,
   "metadata": {
    "collapsed": false,
    "deletable": true,
    "editable": true
   },
   "outputs": [],
   "source": [
    "rectangles = [((48, 400), (144, 496)), ((816, 400), (912, 496)), ((864, 400), (960, 496)), ((1056, 400), (1152, 496)), ((1104, 400), (1200, 496)), ((1152, 400), (1248, 496)), ((320, 400), (448, 528)), ((832, 400), (960, 528)), ((1024, 400), (1152, 528)), ((1088, 400), (1216, 528)), ((1152, 400), (1280, 528))]"
   ]
  },
  {
   "cell_type": "code",
   "execution_count": null,
   "metadata": {
    "collapsed": false,
    "deletable": true,
    "editable": true
   },
   "outputs": [],
   "source": [
    "len(rectangles)"
   ]
  },
  {
   "cell_type": "code",
   "execution_count": null,
   "metadata": {
    "collapsed": true,
    "deletable": true,
    "editable": true
   },
   "outputs": [],
   "source": [
    "# draw_boxes function to draw retangles onto img\n",
    "def draw_boxes(img, bboxes, color=(0, 255, 0), thick=6):\n",
    "    # Make a copy of the image\n",
    "    imcopy = np.copy(img)\n",
    "    random_color = False\n",
    "    # Iterate through the bounding boxes\n",
    "    for bbox in bboxes:\n",
    "        # Draw a rectangle given bbox coordinates\n",
    "        cv2.rectangle(imcopy, bbox[0], bbox[1], color, thick)\n",
    "    # Return the image copy with boxes drawn\n",
    "    return imcopy\n"
   ]
  },
  {
   "cell_type": "code",
   "execution_count": null,
   "metadata": {
    "collapsed": false,
    "deletable": true,
    "editable": true
   },
   "outputs": [],
   "source": [
    "test_img_rects = draw_boxes(test_img, rectangles)\n",
    "plt.figure(figsize=(10,10))\n",
    "plt.imshow(test_img_rects)"
   ]
  },
  {
   "cell_type": "code",
   "execution_count": null,
   "metadata": {
    "collapsed": true,
    "deletable": true,
    "editable": true
   },
   "outputs": [],
   "source": [
    "# tackle overlapping detection and false positives by building a heat-map\n",
    "\n",
    "# heat map\n",
    "def add_heat(heatmap, bbox_list):\n",
    "    # Iterate through list of bboxes\n",
    "    for box in bbox_list:\n",
    "        # Add += 1 for all pixels inside each bbox\n",
    "        # Assuming each \"box\" takes the form ((x1, y1), (x2, y2))\n",
    "        heatmap[box[0][1]:box[1][1], box[0][0]:box[1][0]] += 1\n",
    "\n",
    "    # Return updated heatmap\n",
    "    return heatmap\n",
    "\n",
    "# threshold heatmap\n",
    "def apply_threshold(heatmap, threshold):\n",
    "    # Zero out pixels below the threshold\n",
    "    heatmap[heatmap <= threshold] = 0\n",
    "    # Return thresholded map\n",
    "    return heatmap"
   ]
  },
  {
   "cell_type": "code",
   "execution_count": null,
   "metadata": {
    "collapsed": false,
    "deletable": true,
    "editable": true
   },
   "outputs": [],
   "source": [
    "# test the heat map \n",
    "heatmap_img = np.zeros_like(test_img[:,:,0])\n",
    "heatmap_img = add_heat(heatmap_img, rectangles)\n",
    "plt.figure(figsize=(10,10))\n",
    "plt.imshow(heatmap_img, cmap='hot')"
   ]
  },
  {
   "cell_type": "code",
   "execution_count": null,
   "metadata": {
    "collapsed": false,
    "deletable": true,
    "editable": true
   },
   "outputs": [],
   "source": [
    "# Apply threshold\n",
    "heatmap_img = apply_threshold(heatmap_img, 1)\n",
    "plt.figure(figsize=(10,10))\n",
    "plt.imshow(heatmap_img, cmap='hot')"
   ]
  },
  {
   "cell_type": "code",
   "execution_count": null,
   "metadata": {
    "collapsed": false,
    "deletable": true,
    "editable": true
   },
   "outputs": [],
   "source": [
    "#Apply SciPy Labels to Heatmap\n",
    "labels = label(heatmap_img)\n",
    "plt.figure(figsize=(10,10))\n",
    "plt.imshow(labels[0], cmap='gray')\n",
    "print(labels[1], 'cars found')"
   ]
  },
  {
   "cell_type": "code",
   "execution_count": null,
   "metadata": {
    "collapsed": false,
    "deletable": true,
    "editable": true
   },
   "outputs": [],
   "source": [
    "# Draw Bounding Boxes for Lables\n",
    "def draw_labeled_bboxes(img, labels):\n",
    "    # Iterate through all detected cars\n",
    "    rects = []\n",
    "    for car_number in range(1, labels[1]+1):\n",
    "        # Find pixels with each car_number label value\n",
    "        nonzero = (labels[0] == car_number).nonzero()\n",
    "        # Identify x and y values of those pixels\n",
    "        nonzeroy = np.array(nonzero[0])\n",
    "        nonzerox = np.array(nonzero[1])\n",
    "        # Define a bounding box based on min/max x and y\n",
    "        bbox = ((np.min(nonzerox), np.min(nonzeroy)), (np.max(nonzerox), np.max(nonzeroy)))\n",
    "        rects.append(bbox)\n",
    "        # Draw the box on the image\n",
    "        cv2.rectangle(img, bbox[0], bbox[1], (0,0,255), 6)\n",
    "    # Return the image and final rectangles\n",
    "    return img, rects\n",
    "\n",
    "# Draw bounding boxes on a copy of the image\n",
    "draw_img, rect = draw_labeled_bboxes(np.copy(test_img), labels)\n",
    "# Display the image\n",
    "plt.figure(figsize=(10,10))\n",
    "plt.imshow(draw_img)"
   ]
  },
  {
   "cell_type": "code",
   "execution_count": null,
   "metadata": {
    "collapsed": false,
    "deletable": true,
    "editable": true
   },
   "outputs": [],
   "source": [
    "# Pipeline for image\n",
    "def process_frame(img):\n",
    "\n",
    "    rectangles = []\n",
    "\n",
    "    colorspace = 'YUV' # Can be RGB, HSV, LUV, HLS, YUV, YCrCb\n",
    "    orient = 11\n",
    "    pix_per_cell = 16\n",
    "    cell_per_block = 2\n",
    "    hog_channel = 'ALL' # Can be 0, 1, 2, or \"ALL\"\n",
    "    \n",
    "    ystart = 400\n",
    "    ystop = 500\n",
    "    scale = 0.8\n",
    "    rectangles.append(find_cars(img, ystart, ystop, scale, colorspace, hog_channel, svc, None, \n",
    "                          orient, pix_per_cell, cell_per_block, None, None))\n",
    "    \n",
    "    ystart = 400\n",
    "    ystop = 500\n",
    "    scale = 0.9\n",
    "    rectangles.append(find_cars(img, ystart, ystop, scale, colorspace, hog_channel, svc, None, \n",
    "                          orient, pix_per_cell, cell_per_block, None, None))\n",
    "    \n",
    "    ystart = 400\n",
    "    ystop = 656\n",
    "    scale = 1.0\n",
    "    rectangles.append(find_cars(img, ystart, ystop, scale, colorspace, hog_channel, svc, None, \n",
    "                          orient, pix_per_cell, cell_per_block, None, None))\n",
    "    \n",
    "    ystart = 400\n",
    "    ystop = 656\n",
    "    scale = 1.1\n",
    "    rectangles.append(find_cars(img, ystart, ystop, scale, colorspace, hog_channel, svc, None, \n",
    "                          orient, pix_per_cell, cell_per_block, None, None))\n",
    "    \n",
    "    ystart = 400\n",
    "    ystop = 656\n",
    "    scale = 1.5\n",
    "    rectangles.append(find_cars(img, ystart, ystop, scale, colorspace, hog_channel, svc, None, \n",
    "                           orient, pix_per_cell, cell_per_block, None, None))\n",
    "    ystart = 400\n",
    "    ystop = 528\n",
    "    scale = 2.0\n",
    "    rectangles.append(find_cars(img, ystart, ystop, scale, colorspace, hog_channel, svc, None, \n",
    "                           orient, pix_per_cell, cell_per_block, None, None))\n",
    "    \n",
    "    ystart = 400\n",
    "    ystop = 596\n",
    "    scale = 3.0\n",
    "    rectangles.append(find_cars(img, ystart, ystop, scale, colorspace, hog_channel, svc, None, \n",
    "                           orient, pix_per_cell, cell_per_block, None, None))\n",
    "    \n",
    "    ystart = 400\n",
    "    ystop = 596\n",
    "    scale = 3.5\n",
    "    rectangles.append(find_cars(img, ystart, ystop, scale, colorspace, hog_channel, svc, None, \n",
    "                           orient, pix_per_cell, cell_per_block, None, None))\n",
    "    \n",
    "    rectangles = [item for sublist in rectangles for item in sublist] \n",
    "    \n",
    "    heatmap_img = np.zeros_like(img[:,:,0])\n",
    "    heatmap_img = add_heat(heatmap_img, rectangles)\n",
    "    heatmap_img = apply_threshold(heatmap_img, 3)\n",
    "    labels = label(heatmap_img)\n",
    "    draw_img, rects = draw_labeled_bboxes(np.copy(img), labels)\n",
    "    return draw_img"
   ]
  },
  {
   "cell_type": "code",
   "execution_count": null,
   "metadata": {
    "collapsed": false,
    "deletable": true,
    "editable": true
   },
   "outputs": [],
   "source": [
    "# Run the pipeline on all the test images.\n",
    "test_images = glob.glob('./test_images/test*.jpg')\n",
    "\n",
    "fig, axs = plt.subplots(3, 2, figsize=(16,14))\n",
    "fig.subplots_adjust(hspace = .004, wspace=.002)\n",
    "axs = axs.ravel()\n",
    "\n",
    "for i, im in enumerate(test_images):\n",
    "    axs[i].imshow(process_frame(mpimg.imread(im)))\n",
    "    axs[i].axis('off')"
   ]
  },
  {
   "cell_type": "code",
   "execution_count": null,
   "metadata": {
    "collapsed": false,
    "deletable": true,
    "editable": true
   },
   "outputs": [],
   "source": [
    "# running through a video (test_video.mp4)\n",
    "test_out_file = 'output_images/test_video_out.mp4'\n",
    "clip_test = VideoFileClip('test_video.mp4')\n",
    "clip_test_out = clip_test.fl_image(process_frame)\n",
    "%time clip_test_out.write_videofile(test_out_file, audio=False)"
   ]
  },
  {
   "cell_type": "code",
   "execution_count": null,
   "metadata": {
    "collapsed": true,
    "deletable": true,
    "editable": true
   },
   "outputs": [],
   "source": [
    "# Define a class to store data from video\n",
    "class Vehicle_Detect():\n",
    "    def __init__(self):\n",
    "        # history of rectangles previous n frames\n",
    "        self.prev_rects = [] \n",
    "        \n",
    "    def add_rects(self, rects):\n",
    "        self.prev_rects.append(rects)\n",
    "        if len(self.prev_rects) > 15:\n",
    "            # throw out oldest rectangle set(s)\n",
    "            self.prev_rects = self.prev_rects[len(self.prev_rects)-15:]"
   ]
  },
  {
   "cell_type": "code",
   "execution_count": null,
   "metadata": {
    "collapsed": true,
    "deletable": true,
    "editable": true
   },
   "outputs": [],
   "source": [
    "def process_frame_for_video(img):\n",
    "\n",
    "    rectangles = []\n",
    "\n",
    "    colorspace = 'YUV' # Can be RGB, HSV, LUV, HLS, YUV, YCrCb\n",
    "    orient = 11\n",
    "    pix_per_cell = 16\n",
    "    cell_per_block = 2\n",
    "    hog_channel = 'ALL' # Can be 0, 1, 2, or \"ALL\"\n",
    "    \n",
    "    ystart = 400\n",
    "    ystop = 464\n",
    "    scale = 1.0\n",
    "    rectangles.append(find_cars(img, ystart, ystop, scale, colorspace, hog_channel, svc, None, \n",
    "                           orient, pix_per_cell, cell_per_block, None, None))\n",
    "    ystart = 416\n",
    "    ystop = 480\n",
    "    scale = 1.0\n",
    "    rectangles.append(find_cars(img, ystart, ystop, scale, colorspace, hog_channel, svc, None, \n",
    "                           orient, pix_per_cell, cell_per_block, None, None))\n",
    "    ystart = 400\n",
    "    ystop = 496\n",
    "    scale = 1.5\n",
    "    rectangles.append(find_cars(img, ystart, ystop, scale, colorspace, hog_channel, svc, None, \n",
    "                           orient, pix_per_cell, cell_per_block, None, None))\n",
    "    ystart = 432\n",
    "    ystop = 528\n",
    "    scale = 1.5\n",
    "    rectangles.append(find_cars(img, ystart, ystop, scale, colorspace, hog_channel, svc, None, \n",
    "                           orient, pix_per_cell, cell_per_block, None, None))\n",
    "    ystart = 400\n",
    "    ystop = 528\n",
    "    scale = 2.0\n",
    "    rectangles.append(find_cars(img, ystart, ystop, scale, colorspace, hog_channel, svc, None, \n",
    "                           orient, pix_per_cell, cell_per_block, None, None))\n",
    "    ystart = 432\n",
    "    ystop = 560\n",
    "    scale = 2.0\n",
    "    rectangles.append(find_cars(img, ystart, ystop, scale, colorspace, hog_channel, svc, None, \n",
    "                           orient, pix_per_cell, cell_per_block, None, None))\n",
    "    ystart = 400\n",
    "    ystop = 596\n",
    "    scale = 3.5\n",
    "    rectangles.append(find_cars(img, ystart, ystop, scale, colorspace, hog_channel, svc, None, \n",
    "                           orient, pix_per_cell, cell_per_block, None, None))\n",
    "    ystart = 464\n",
    "    ystop = 660\n",
    "    scale = 3.5\n",
    "    rectangles.append(find_cars(img, ystart, ystop, scale, colorspace, hog_channel, svc, None, \n",
    "                           orient, pix_per_cell, cell_per_block, None, None))\n",
    " \n",
    "    rectangles = [item for sublist in rectangles for item in sublist] \n",
    "    \n",
    "    # add detections to the history\n",
    "    if len(rectangles) > 0:\n",
    "        det.add_rects(rectangles)\n",
    "    \n",
    "    heatmap_img = np.zeros_like(img[:,:,0])\n",
    "    for rect_set in det.prev_rects:\n",
    "        heatmap_img = add_heat(heatmap_img, rect_set)\n",
    "    heatmap_img = apply_threshold(heatmap_img, 1 + len(det.prev_rects)//2)\n",
    "     \n",
    "    labels = label(heatmap_img)\n",
    "    draw_img, rect = draw_labeled_bboxes(np.copy(img), labels)\n",
    "    return draw_img\n"
   ]
  },
  {
   "cell_type": "code",
   "execution_count": null,
   "metadata": {
    "collapsed": true,
    "deletable": true,
    "editable": true
   },
   "outputs": [],
   "source": [
    "def process_frame_for_video(img):\n",
    "\n",
    "    rectangles = []\n",
    "\n",
    "    colorspace = 'YUV' # Can be RGB, HSV, LUV, HLS, YUV, YCrCb\n",
    "    orient = 11\n",
    "    pix_per_cell = 16\n",
    "    cell_per_block = 2\n",
    "    hog_channel = 'ALL' # Can be 0, 1, 2, or \"ALL\"\n",
    "    \n",
    "    ystart = 400\n",
    "    ystop = 500\n",
    "    scale = 0.8\n",
    "    rectangles.append(find_cars(img, ystart, ystop, scale, colorspace, hog_channel, svc, None, \n",
    "                          orient, pix_per_cell, cell_per_block, None, None))\n",
    "    \n",
    "    ystart = 400\n",
    "    ystop = 500\n",
    "    scale = 0.9\n",
    "    rectangles.append(find_cars(img, ystart, ystop, scale, colorspace, hog_channel, svc, None, \n",
    "                          orient, pix_per_cell, cell_per_block, None, None))\n",
    "    \n",
    "    ystart = 400\n",
    "    ystop = 656\n",
    "    scale = 1.0\n",
    "    rectangles.append(find_cars(img, ystart, ystop, scale, colorspace, hog_channel, svc, None, \n",
    "                          orient, pix_per_cell, cell_per_block, None, None))\n",
    "    \n",
    "    ystart = 400\n",
    "    ystop = 656\n",
    "    scale = 1.1\n",
    "    rectangles.append(find_cars(img, ystart, ystop, scale, colorspace, hog_channel, svc, None, \n",
    "                          orient, pix_per_cell, cell_per_block, None, None))\n",
    "    \n",
    "    ystart = 400\n",
    "    ystop = 656\n",
    "    scale = 1.5\n",
    "    rectangles.append(find_cars(img, ystart, ystop, scale, colorspace, hog_channel, svc, None, \n",
    "                           orient, pix_per_cell, cell_per_block, None, None))\n",
    "    ystart = 400\n",
    "    ystop = 528\n",
    "    scale = 2.0\n",
    "    rectangles.append(find_cars(img, ystart, ystop, scale, colorspace, hog_channel, svc, None, \n",
    "                           orient, pix_per_cell, cell_per_block, None, None))\n",
    "    \n",
    "    ystart = 400\n",
    "    ystop = 596\n",
    "    scale = 3.0\n",
    "    rectangles.append(find_cars(img, ystart, ystop, scale, colorspace, hog_channel, svc, None, \n",
    "                           orient, pix_per_cell, cell_per_block, None, None))\n",
    "    \n",
    "    ystart = 400\n",
    "    ystop = 596\n",
    "    scale = 3.5\n",
    "    rectangles.append(find_cars(img, ystart, ystop, scale, colorspace, hog_channel, svc, None, \n",
    "                           orient, pix_per_cell, cell_per_block, None, None))\n",
    "    rectangles = [item for sublist in rectangles for item in sublist] \n",
    "    \n",
    "    # add detections to the history\n",
    "    if len(rectangles) > 0:\n",
    "        det.add_rects(rectangles)\n",
    "    \n",
    "    heatmap_img = np.zeros_like(img[:,:,0])\n",
    "    for rect_set in det.prev_rects:\n",
    "        heatmap_img = add_heat(heatmap_img, rect_set)\n",
    "    heatmap_img = apply_threshold(heatmap_img, 1 + len(det.prev_rects)//2)\n",
    "     \n",
    "    labels = label(heatmap_img)\n",
    "    draw_img, rect = draw_labeled_bboxes(np.copy(img), labels)\n",
    "    return draw_img"
   ]
  },
  {
   "cell_type": "code",
   "execution_count": null,
   "metadata": {
    "collapsed": false,
    "deletable": true,
    "editable": true
   },
   "outputs": [],
   "source": [
    "# second version processing video (test_video.mp4)\n",
    "det = Vehicle_Detect()\n",
    "\n",
    "test_out_file2 = 'test_video_out_2.mp4'\n",
    "clip_test2 = VideoFileClip('test_video.mp4')\n",
    "clip_test_out2 = clip_test2.fl_image(process_frame_for_video)\n",
    "%time clip_test_out2.write_videofile(test_out_file2, audio=False)"
   ]
  },
  {
   "cell_type": "code",
   "execution_count": null,
   "metadata": {
    "collapsed": false,
    "deletable": true,
    "editable": true,
    "scrolled": true
   },
   "outputs": [],
   "source": [
    "# processing video (project_video.mp4)\n",
    "det = Vehicle_Detect()\n",
    "\n",
    "test_out_file2 = 'output_images/project_video_out2.mp4'\n",
    "clip_test2 = VideoFileClip('project_video.mp4')\n",
    "clip_test_out2 = clip_test2.fl_image(process_frame_for_video)\n",
    "%time clip_test_out2.write_videofile(test_out_file2, audio=False)"
   ]
  },
  {
   "cell_type": "code",
   "execution_count": null,
   "metadata": {
    "collapsed": false,
    "deletable": true,
    "editable": true
   },
   "outputs": [],
   "source": [
    "test_image = mpimg.imread('./test_images/test3.jpg')\n",
    "result = process_frame(test_image)\n",
    "plt.imshow(result)"
   ]
  },
  {
   "cell_type": "code",
   "execution_count": null,
   "metadata": {
    "collapsed": false,
    "deletable": true,
    "editable": true
   },
   "outputs": [],
   "source": [
    "print(len(rectangles), 'boxes:', rectangles)"
   ]
  },
  {
   "cell_type": "code",
   "execution_count": null,
   "metadata": {
    "collapsed": false,
    "deletable": true,
    "editable": true
   },
   "outputs": [],
   "source": [
    "print(rectangles[0])\n",
    "print(rectangles[1])\n",
    "print(rectangles[0][1])\n",
    "print(rectangles[1][1])\n",
    "print(rectangles[0][0])\n",
    "print(rectangles[1][0])"
   ]
  },
  {
   "cell_type": "code",
   "execution_count": null,
   "metadata": {
    "collapsed": true,
    "deletable": true,
    "editable": true
   },
   "outputs": [],
   "source": [
    "heatmap_img = np.zeros_like(test_img[:,:,0])"
   ]
  },
  {
   "cell_type": "code",
   "execution_count": null,
   "metadata": {
    "collapsed": false,
    "deletable": true,
    "editable": true
   },
   "outputs": [],
   "source": [
    "heatmap_img_rects = draw_boxes(heatmap_img, rectangles)\n",
    "plt.imshow(heatmap_img_rects, 'hot')"
   ]
  },
  {
   "cell_type": "code",
   "execution_count": null,
   "metadata": {
    "collapsed": true,
    "deletable": true,
    "editable": true
   },
   "outputs": [],
   "source": [
    "# Generate heatmap\n",
    "def add_heat(heatmap, bbox_list):\n",
    "    # Iterate through list of bboxes\n",
    "    for box in bbox_list:\n",
    "        # Add += 1 for all pixels inside each bbox\n",
    "        # Assuming each \"box\" takes the form ((x1, y1), (x2, y2))\n",
    "        heatmap[box[0][1]:box[1][1], box[0][0]:box[1][0]] += 1\n",
    "\n",
    "    # Return updated heatmap\n",
    "    return heatmap"
   ]
  },
  {
   "cell_type": "code",
   "execution_count": null,
   "metadata": {
    "collapsed": true,
    "deletable": true,
    "editable": true
   },
   "outputs": [],
   "source": [
    "# Test out the heatmap\n",
    "heatmap_img = np.zeros_like(test_img[:,:,0])\n",
    "heatmap_img = add_heat(heatmap_img, rectangles)\n",
    "plt.figure(figsize=(10,10))\n",
    "plt.imshow(heatmap_img, cmap='hot')"
   ]
  }
 ],
 "metadata": {
  "celltoolbar": "Raw Cell Format",
  "kernelspec": {
   "display_name": "Python 3",
   "language": "python",
   "name": "python3"
  },
  "language_info": {
   "codemirror_mode": {
    "name": "ipython",
    "version": 3
   },
   "file_extension": ".py",
   "mimetype": "text/x-python",
   "name": "python",
   "nbconvert_exporter": "python",
   "pygments_lexer": "ipython3",
   "version": "3.5.2"
  },
  "widgets": {
   "state": {},
   "version": "1.1.2"
  }
 },
 "nbformat": 4,
 "nbformat_minor": 2
}
